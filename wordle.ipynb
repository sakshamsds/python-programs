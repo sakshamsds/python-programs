{
 "cells": [
  {
   "cell_type": "code",
   "execution_count": 180,
   "metadata": {},
   "outputs": [
    {
     "name": "stdout",
     "output_type": "stream",
     "text": [
      "25487\n"
     ]
    }
   ],
   "source": [
    "from english_words import english_words_set\n",
    "\n",
    "print(len(english_words_set))"
   ]
  },
  {
   "cell_type": "code",
   "execution_count": 181,
   "metadata": {},
   "outputs": [
    {
     "name": "stdout",
     "output_type": "stream",
     "text": [
      "3210\n"
     ]
    }
   ],
   "source": [
    "five_letter_words = [word.lower() for word in english_words_set if len(word)==5]\n",
    "\n",
    "print(len(five_letter_words))"
   ]
  },
  {
   "cell_type": "code",
   "execution_count": 182,
   "metadata": {},
   "outputs": [
    {
     "data": {
      "text/plain": [
       "['milan', 'snell', 'bonze', 'meier', 'gases']"
      ]
     },
     "execution_count": 182,
     "metadata": {},
     "output_type": "execute_result"
    }
   ],
   "source": [
    "import random\n",
    "\n",
    "random.sample(five_letter_words, 5)"
   ]
  },
  {
   "cell_type": "code",
   "execution_count": 183,
   "metadata": {},
   "outputs": [],
   "source": [
    "# contains multiple letters\n",
    "\n",
    "def contains_multiple_letters(containing_letters, input_list):\n",
    "    output_list = []\n",
    "    for word in input_list:\n",
    "        if containing_letters_in_word(containing_letters, word):\n",
    "            output_list.append(word)\n",
    "    return output_list\n",
    "\n",
    "def containing_letters_in_word(letters, word):\n",
    "    for letter in letters:\n",
    "        if letter not in word:\n",
    "            return False\n",
    "    return True  \n",
    "\n",
    "# output = contains_multiple_letters('e', ['break', 'grand', 'weird'])\n",
    "# print(output)"
   ]
  },
  {
   "cell_type": "code",
   "execution_count": 184,
   "metadata": {},
   "outputs": [],
   "source": [
    "# should contain letters at specific positions\n",
    "\n",
    "def specific_place_letters(positional_inputs, input_list):\n",
    "    output_list = []\n",
    "    first = positional_inputs[0]\n",
    "    second = positional_inputs[1]\n",
    "    third = positional_inputs[2]\n",
    "    fourth = positional_inputs[3]    \n",
    "    fifth = positional_inputs[4]\n",
    "    \n",
    "    for word in input_list:\n",
    "        if first != '0' and first != word[0]:\n",
    "                continue\n",
    "        if second != '0'and second != word[1]:\n",
    "                continue  \n",
    "        if third != '0'and third != word[2]:\n",
    "                continue \n",
    "        if fourth != '0'and fourth != word[3]:\n",
    "                continue   \n",
    "        if fifth != '0' and fifth != word[4]:\n",
    "                continue \n",
    "        output_list.append(word)\n",
    "\n",
    "        return output_list"
   ]
  },
  {
   "cell_type": "code",
   "execution_count": 185,
   "metadata": {},
   "outputs": [],
   "source": [
    "# remove words with missing letters\n",
    "\n",
    "def remove_words_with_missing_letters(missing_letters, input_list):\n",
    "    output_list = []\n",
    "    for word in input_list:\n",
    "        if not missing_letter_in_word(missing_letters, word):\n",
    "            output_list.append(word)\n",
    "    return output_list\n",
    "\n",
    "\n",
    "def missing_letter_in_word(letters, word):\n",
    "    for letter in letters:\n",
    "        if letter in word:\n",
    "            return True\n",
    "    return False\n",
    "\n",
    "# output = remove_words_with_missing_letters('e', ['break', 'grand', 'weird'])\n",
    "# print(output)"
   ]
  },
  {
   "cell_type": "code",
   "execution_count": 226,
   "metadata": {},
   "outputs": [],
   "source": [
    "# combination\n",
    "\n",
    "def find_answers(containing_letters, positional_letters, missing_letters, initial_word_list):\n",
    "    \n",
    "    possible_answers = contains_multiple_letters(containing_letters, initial_word_list)\n",
    "    possible_answers = specific_place_letters(positional_letters, possible_answers)\n",
    "    possible_answers = remove_words_with_missing_letters(missing_letters, possible_answers)\n",
    "    print(len(possible_answers))\n",
    "    print(possible_answers)"
   ]
  },
  {
   "cell_type": "code",
   "execution_count": 311,
   "metadata": {},
   "outputs": [
    {
     "name": "stdout",
     "output_type": "stream",
     "text": [
      "3\n",
      "['truly', 'burly', 'surly']\n"
     ]
    }
   ],
   "source": [
    "# update and run every time you find new information\n",
    "\n",
    "# roast, cline\n",
    "# corny, fight, psalm, juked\n",
    "\n",
    "answers = find_answers('', '000ly', '', five_letter_words)"
   ]
  },
  {
   "cell_type": "code",
   "execution_count": null,
   "metadata": {},
   "outputs": [],
   "source": []
  },
  {
   "cell_type": "code",
   "execution_count": null,
   "metadata": {},
   "outputs": [],
   "source": []
  }
 ],
 "metadata": {
  "kernelspec": {
   "display_name": "Python 3",
   "language": "python",
   "name": "python3"
  },
  "language_info": {
   "codemirror_mode": {
    "name": "ipython",
    "version": 3
   },
   "file_extension": ".py",
   "mimetype": "text/x-python",
   "name": "python",
   "nbconvert_exporter": "python",
   "pygments_lexer": "ipython3",
   "version": "3.8.5"
  }
 },
 "nbformat": 4,
 "nbformat_minor": 4
}
